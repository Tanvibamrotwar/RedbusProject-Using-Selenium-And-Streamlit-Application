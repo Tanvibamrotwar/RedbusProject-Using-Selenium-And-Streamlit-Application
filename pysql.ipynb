{
 "cells": [
  {
   "cell_type": "code",
   "execution_count": 10,
   "id": "b493a61c-cec0-4130-bc3f-9f85b3f478d1",
   "metadata": {},
   "outputs": [],
   "source": [
    "import pandas as pd\n",
    "import glob\n"
   ]
  },
  {
   "cell_type": "code",
   "execution_count": 11,
   "id": "79f00f8e-deaa-4a34-b637-44df6433e4c5",
   "metadata": {},
   "outputs": [
    {
     "name": "stdout",
     "output_type": "stream",
     "text": [
      "        id                                    Route_Name  \\\n",
      "0        1                   Jammu (j and k) to Srinagar   \n",
      "1        2                   Jammu (j and k) to Haridwar   \n",
      "3        4                      Jammu (j and k) to Delhi   \n",
      "8        9                      Delhi to Jammu (j and k)   \n",
      "13      14  Katra (jammu and kashmir) to Jammu (j and k)   \n",
      "...    ...                                           ...   \n",
      "9369  9370               Kozhikode to Thiruvananthapuram   \n",
      "9370  9371               Kozhikode to Thiruvananthapuram   \n",
      "9371  9372               Kozhikode to Thiruvananthapuram   \n",
      "9372  9373               Kozhikode to Thiruvananthapuram   \n",
      "9373  9374               Kozhikode to Thiruvananthapuram   \n",
      "\n",
      "                                             Route_Link          Bus_Name  \\\n",
      "0     https://www.redbus.in/bus-tickets/jammu-to-sri...   New Pal Travels   \n",
      "1     https://www.redbus.in/bus-tickets/jammu-to-har...    Laxmi holidays   \n",
      "3      https://www.redbus.in/bus-tickets/jammu-to-delhi  Gola Bus Service   \n",
      "8      https://www.redbus.in/bus-tickets/delhi-to-jammu    Laxmi holidays   \n",
      "13     https://www.redbus.in/bus-tickets/katra-to-jammu      Zingbus Plus   \n",
      "...                                                 ...               ...   \n",
      "9369  https://www.redbus.in/bus-tickets/kozhikode-to...        A1 Travels   \n",
      "9370  https://www.redbus.in/bus-tickets/kozhikode-to...   Madhavi Travels   \n",
      "9371  https://www.redbus.in/bus-tickets/kozhikode-to...      Galaxy Tours   \n",
      "9372  https://www.redbus.in/bus-tickets/kozhikode-to...   EMERALD TRAVELS   \n",
      "9373  https://www.redbus.in/bus-tickets/kozhikode-to...    Balaji Tourist   \n",
      "\n",
      "                                     Bus_Type Departing_Time Duration  \\\n",
      "0              NON A/C Seater / Sleeper (2+2)          21:15  10h 00m   \n",
      "1       Bharat Benz A/C Seater /Sleeper (2+1)          20:50  12h 40m   \n",
      "3               VE A/C Seater / Sleeper (2+1)          20:20  11h 30m   \n",
      "8     Volvo 9600 Multi-Axle A/C Sleeper (2+1)          21:30  12h 45m   \n",
      "13                          A/C Sleeper (2+1)          19:50  01h 25m   \n",
      "...                                       ...            ...      ...   \n",
      "9369    Bharat Benz A/C Seater /Sleeper (2+1)          22:30  07h 30m   \n",
      "9370             Volvo A/C Semi Sleeper (2+2)          23:30  08h 00m   \n",
      "9371                   A/C Semi Sleeper (2+2)          21:45  08h 45m   \n",
      "9372                   A/C Semi Sleeper (2+2)          22:00  07h 30m   \n",
      "9373   Volvo Multi-Axle A/C Semisleeper (2+2)          22:00  11h 00m   \n",
      "\n",
      "     Reaching_Time  Star_Rating Price Seat_Availability  \n",
      "0            07:15          1.4   719                36  \n",
      "1            09:30          4.5   610                15  \n",
      "3            07:50          4.8   399                12  \n",
      "8            10:15          4.5  1000                17  \n",
      "13           21:15          4.3   123                31  \n",
      "...            ...          ...   ...               ...  \n",
      "9369         06:00          2.3   900                38  \n",
      "9370         07:30          3.2  1199                41  \n",
      "9371         06:30          2.8  1000                27  \n",
      "9372         05:30          2.2   800                28  \n",
      "9373         09:00          0.0  3000                43  \n",
      "\n",
      "[9085 rows x 11 columns]\n"
     ]
    }
   ],
   "source": [
    "\n",
    "df = pd.read_csv(\"jammu.csv\")\n",
    "df = pd.read_csv(\"rajasthan_bus_details.csv\")\n",
    "df = pd.read_csv(\"punjab_bus_details.csv\")\n",
    "df = pd.read_csv(\"wb1.csv\")\n",
    "df = pd.read_csv(\"sb_bus_details.csv\")\n",
    "df = pd.read_csv(\"wb2_bus_details.csv\")\n",
    "df = pd.read_csv(\"northbengal.csv\")\n",
    "df = pd.read_csv(\"kaac_bus_details.csv\")\n",
    "df = pd.read_csv(\"up_bus_details.csv\")\n",
    "df = pd.read_csv(\"bihar.csv\")\n",
    "df = pd.read_csv(\"assam_bus_details.csv\")\n",
    "df = pd.read_csv(\"chandigarh_bus_details.csv\")\n",
    "df = pd.read_csv(\"himachal_bus_details.csv\")\n",
    "df = pd.read_csv(\"kadamba_bus_details.csv\")\n",
    "df = pd.read_csv(\"Telangana_bus_details.csv\")\n",
    "df = pd.read_csv(\"andrhra_bus_details.csv\")\n",
    "df = pd.read_csv(\"kerala_bus_details.csv\")\n",
    "\n",
    "# List of CSV file paths\n",
    "csv_files = [\"jammu.csv\",\"rajasthan_bus_details.csv\",\"punjab_bus_details.csv\",\"wb1.csv\",\"sb_bus_details.csv\",\"wb2_bus_details.csv\",\"northbengal.csv\",\"kaac_bus_details.csv\",\"up_bus_details.csv\",\"bihar.csv\",\"assam_bus_details.csv\",\"chandigarh_bus_details.csv\",\"himachal_bus_details.csv\",\"kadamba_bus_details.csv\",\"andrhra_bus_details.csv\",\"Telangana_bus_details.csv\",\"kerala_bus_details.csv\",]   \n",
    "\n",
    "# Read each CSV file into a DataFrame and store it in a list\n",
    "df= [pd.read_csv(file) for file in csv_files]\n",
    "\n",
    "# Concatenate all DataFrames in the list\n",
    "df = pd.concat(df, ignore_index=True)\n",
    "df.to_csv(\"Buses.csv\", index=False)\n",
    "df = pd.read_csv(\"Buses.csv\")\n",
    "\n",
    "id_column = pd.Series(range(1, len(df) + 1), name='id')\n",
    "\n",
    "# Resetting the index of df to ensure alignment (optional, but sometimes necessary)\n",
    "df = df.reset_index(drop=True)\n",
    "\n",
    "# Concatenating the id_column to the DataFrame\n",
    "df = pd.concat([id_column, df], axis=1)\n",
    "# Display the updated DataFrame\n",
    "#print(df)\n",
    "df = df.dropna() #drop null values\n",
    "\n",
    "#replace string to empty string\n",
    "df['Price'] = df['Price'].astype(str)\n",
    "df['Price'] = df['Price'].str.replace('INR ', '', regex=False)\n",
    "#print(df)\n",
    "\n",
    "#extract the digits(0-9)\n",
    "df['Seat_Availability'] = df['Seat_Availability'].str.extract(r'(\\d+)')\n",
    "df = df.dropna()\n",
    "print(df)"
   ]
  },
  {
   "cell_type": "code",
   "execution_count": 12,
   "id": "248f43b7-3fa0-449a-b52c-c1a8c62874ca",
   "metadata": {},
   "outputs": [
    {
     "name": "stdout",
     "output_type": "stream",
     "text": [
      "Requirement already satisfied: pymysql in c:\\users\\tanvi\\anaconda3\\lib\\site-packages (1.1.1)\n"
     ]
    }
   ],
   "source": [
    "!pip install pymysql\n"
   ]
  },
  {
   "cell_type": "code",
   "execution_count": 13,
   "id": "3906f08b-3cda-40e2-8563-7eeebb308861",
   "metadata": {},
   "outputs": [
    {
     "name": "stdout",
     "output_type": "stream",
     "text": [
      "('27thjune_db',)\n",
      "('guvi_session',)\n",
      "('information_schema',)\n",
      "('mysql',)\n",
      "('performance_schema',)\n",
      "('redbus',)\n",
      "('redbus1',)\n",
      "('sakila',)\n",
      "('sys',)\n",
      "('world',)\n"
     ]
    }
   ],
   "source": [
    "#python mysql connection\n",
    "import pymysql\n",
    "mydb = pymysql.connect(\n",
    "       host=\"localhost\",\n",
    "       user=\"root\",\n",
    "       password=\"Tanvi\",\n",
    "    \n",
    ")\n",
    "mycursor=mydb.cursor()\n",
    "mycursor.execute(\"CREATE DATABASE REDBUS\")\n",
    "mycursor.execute(\"SHOW DATABASES\")\n",
    "for i in mycursor :\n",
    "    print(i)\n",
    "\n",
    "mydb=pymysql.connect(\n",
    "    host=\"localhost\",\n",
    "    user=\"root\",\n",
    "    password=\"Tanvi\",\n",
    "    database='REDBUS'\n",
    ")"
   ]
  },
  {
   "cell_type": "code",
   "execution_count": 14,
   "id": "eed94651-5170-4892-a0f6-c089308b79a2",
   "metadata": {},
   "outputs": [
    {
     "name": "stdout",
     "output_type": "stream",
     "text": [
      "Data inserted successfully!\n"
     ]
    }
   ],
   "source": [
    "\n",
    "mycursor=mydb.cursor()\n",
    "a = \",\".join(f\"{i} {str(j).replace('float64','float').replace('object','text').replace('int64','int')}\"\n",
    "             for i,j in zip(df.columns,df.dtypes)) #replace dtypes from pandas to mysql\n",
    "table_name = \"Buses\"\n",
    "mycursor.execute(f\"create table {table_name} ({a})\")\n",
    "for i in range(len(df)):\n",
    "    mycursor.execute(f\"insert into {table_name} values {tuple(df.iloc[i])}\")\n",
    "    mydb.commit()\n",
    "\n",
    "mydb.close()\n",
    "print(\"Data inserted successfully!\")"
   ]
  },
  {
   "cell_type": "code",
   "execution_count": null,
   "id": "9b73a9b0-5b8c-499b-ba29-b7134c028916",
   "metadata": {},
   "outputs": [],
   "source": []
  },
  {
   "cell_type": "code",
   "execution_count": null,
   "id": "bcb848f3-042f-4f61-bb64-338c5f41af7e",
   "metadata": {},
   "outputs": [],
   "source": []
  },
  {
   "cell_type": "code",
   "execution_count": null,
   "id": "63ad6c00-a553-4331-ab12-bd44ff80498d",
   "metadata": {},
   "outputs": [],
   "source": []
  }
 ],
 "metadata": {
  "kernelspec": {
   "display_name": "Python 3 (ipykernel)",
   "language": "python",
   "name": "python3"
  },
  "language_info": {
   "codemirror_mode": {
    "name": "ipython",
    "version": 3
   },
   "file_extension": ".py",
   "mimetype": "text/x-python",
   "name": "python",
   "nbconvert_exporter": "python",
   "pygments_lexer": "ipython3",
   "version": "3.12.4"
  }
 },
 "nbformat": 4,
 "nbformat_minor": 5
}
